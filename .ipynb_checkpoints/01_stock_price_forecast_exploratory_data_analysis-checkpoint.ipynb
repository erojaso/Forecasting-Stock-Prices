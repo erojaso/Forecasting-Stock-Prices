{
 "cells": [
  {
   "cell_type": "markdown",
   "metadata": {},
   "source": [
    "# Forecasting Stock Prices\n",
    "**Data Analytics and Big Data Capstone Project 2018c-5 - Data Science with Python**\n",
    "\n",
    "“`The stock market is designed to transfer money from the active to the patient`.” ― **Warren Buffett**\n",
    "\n",
    "\n",
    "## Problem Statement\n",
    "\n",
    "Research associated with the stock market focuses on offering the best tools to the investor to predict the behavior of their product portfolio in search of the best returns; but in a smaller number it addresses the dimensionality and expectations of the new investor.\n",
    "\n",
    "The common perception of the new investor is that it is highly risky to place their savings in these investment models or that they are beyond their economic capacity.\n",
    "\n",
    "Variations are instantaneous, but the returns from this type of investment do not occur in the short term. It is important to recognize the pattern of behavior in the medium or long term and to have 'nerves of steel' at the first signs of loss of value of their stock.\n",
    "\n",
    "Understanding these variations and identifying similar patterns in the past are important, for an investor who wants to be properly advised. Understanding variations is part of informed decision making when investing in the stock market.\n",
    "\n",
    "To solve this problem, the analysis of 'Time Series' is a tool that makes it easier to forecast the trend or even to forecast the future; this will provide the right investment tool in taking their decisions.\n",
    "\n",
    "That is why we will experiment with predicting stock prices for a technology-based company using Machine Learning and Deep Learning Techniques. With which we will structure a set of prediction models to help the new investor in taking decisions about the acquisition or sale of its stocks.\n",
    "\n",
    "The main objective is to show how to implement these algorithms, and to provide a final demonstration with one of the models; the one that provides the best final accuracy metrics and least possible error.\n",
    "\n",
    "To maximize results and if you have little experience in time series, I suggest to start with the following articles:\n",
    "\n",
    "- [A comprehensive beginner’s guide to create a Time Series Forecast](https://www.analyticsvidhya.com/blog/2016/02/time-series-forecasting-codes-python/?utm_source=blog&utm_medium=stockmarketpredictionarticle)\n",
    "- [A Complete Tutorial on Time Series Modeling](https://www.analyticsvidhya.com/blog/2015/12/complete-tutorial-time-series-modeling/?utm_source=blog&utm_medium=stockmarketpredictionarticle)\n",
    "\n",
    "\n",
    "### Clarify the project goal/scope.\n",
    "\n",
    "- The `profit or loss calculation is usually determined by the 'Close Price'` of a stock for the day, hence we will **consider the closing price as the target variable**.\n",
    "\n",
    "- Other data sets offer additional information such as: The attributes 'Dividend', 'Split' and 'Adjusted'. These attributes can then be used for a new research approach using the '**Granger Causality Test**' which is used to find out if one series can predict another series. This research will focus on the values provided by [MacroTrends](https://www.macrotrends.net/stocks/charts/INTC/intel/stock-price-history)\n",
    "\n",
    "### Set down Evaluation Criteria\n",
    "** pending **\n",
    "\n",
    "El historico de datos considerados para esta investigacion preliminar comprenden desde Enero 01 del 2016 hasta la Enero 01 del 2021\n",
    "\n",
    "### Set down preliminary research hypothesis\n",
    "** pending **\n",
    "\n",
    "utilizar registros hitoricos mayores a 10 puede agregar ruido al proceso de prediccion.\n",
    "\n",
    "\n",
    "## Table of Contents\n",
    " 1. Setup Work Environment\n",
    " 2. Exploratory Data Analysis (EDA)\n",
    "\n",
    "\n",
    "2. Moving Average\n",
    "3. Linear Regression\n",
    "4. k-Nearest Neighbors\n",
    "5. Auto ARIMA\n",
    "6. Prophet\n",
    "7. Long Short Term Memory (LSTM)\n",
    "\n",
    "###  1. Setup Work Environment"
   ]
  },
  {
   "cell_type": "code",
   "execution_count": 12,
   "metadata": {},
   "outputs": [],
   "source": [
    "# Load libraries\n",
    "import pandas as pd\n",
    "import numpy as np\n",
    "import matplotlib.pyplot as plt\n",
    "import datetime as dt\n",
    "\n",
    "from matplotlib.pyplot import rcParams\n",
    "\n",
    "# plot within notebook\n",
    "%matplotlib inline"
   ]
  },
  {
   "cell_type": "code",
   "execution_count": 14,
   "metadata": {},
   "outputs": [],
   "source": [
    "## load parameters\n",
    "# scaler = MinMaxScaler(feature_range=(0, 1))\n",
    "\n",
    "# set figure size\n",
    "rcParams['figure.figsize'] = 10, 8"
   ]
  },
  {
   "cell_type": "code",
   "execution_count": 41,
   "metadata": {},
   "outputs": [
    {
     "name": "stdout",
     "output_type": "stream",
     "text": [
      "(10090, 6)\n"
     ]
    }
   ],
   "source": [
    "# Load dataset\n",
    "dateparse = lambda dates: pd.datetime.strptime(dates, '%Y-%m-%d')\n",
    "\n",
    "# load data\n",
    "df = pd.read_csv('.\\\\data\\\\eod.data-intc.csv') #,  index_col='Date', parse_dates=['Date'], date_parser=dateparse)\n",
    "\n",
    "# Change all column headings to be lower case, and remove spacing\n",
    "df.columns = [str(x).lower().replace('_', '') for x in df.columns]"
   ]
  },
  {
   "cell_type": "markdown",
   "metadata": {},
   "source": [
    "### 2. Exploratory Data Analysis (EDA)"
   ]
  },
  {
   "cell_type": "code",
   "execution_count": 43,
   "metadata": {},
   "outputs": [
    {
     "name": "stdout",
     "output_type": "stream",
     "text": [
      "\n",
      " Shape of the data:\n",
      "\n",
      "(10090, 6)\n",
      "\n",
      " Data's Info:\n",
      "\n",
      "<class 'pandas.core.frame.DataFrame'>\n",
      "RangeIndex: 10090 entries, 0 to 10089\n",
      "Data columns (total 6 columns):\n",
      "date      10090 non-null object\n",
      "open      10090 non-null float64\n",
      "high      10090 non-null float64\n",
      "low       10090 non-null float64\n",
      "close     10090 non-null float64\n",
      "volume    10090 non-null int64\n",
      "dtypes: float64(4), int64(1), object(1)\n",
      "memory usage: 473.1+ KB\n",
      "None\n",
      "\n",
      " First data rows:\n"
     ]
    },
    {
     "data": {
      "text/html": [
       "<div>\n",
       "<style scoped>\n",
       "    .dataframe tbody tr th:only-of-type {\n",
       "        vertical-align: middle;\n",
       "    }\n",
       "\n",
       "    .dataframe tbody tr th {\n",
       "        vertical-align: top;\n",
       "    }\n",
       "\n",
       "    .dataframe thead th {\n",
       "        text-align: right;\n",
       "    }\n",
       "</style>\n",
       "<table border=\"1\" class=\"dataframe\">\n",
       "  <thead>\n",
       "    <tr style=\"text-align: right;\">\n",
       "      <th></th>\n",
       "      <th>date</th>\n",
       "      <th>open</th>\n",
       "      <th>high</th>\n",
       "      <th>low</th>\n",
       "      <th>close</th>\n",
       "      <th>volume</th>\n",
       "    </tr>\n",
       "  </thead>\n",
       "  <tbody>\n",
       "    <tr>\n",
       "      <td>0</td>\n",
       "      <td>3/17/1980</td>\n",
       "      <td>0.3255</td>\n",
       "      <td>0.3307</td>\n",
       "      <td>0.3255</td>\n",
       "      <td>0.3255</td>\n",
       "      <td>10924800</td>\n",
       "    </tr>\n",
       "    <tr>\n",
       "      <td>1</td>\n",
       "      <td>3/18/1980</td>\n",
       "      <td>0.3255</td>\n",
       "      <td>0.3281</td>\n",
       "      <td>0.3229</td>\n",
       "      <td>0.3229</td>\n",
       "      <td>17068800</td>\n",
       "    </tr>\n",
       "    <tr>\n",
       "      <td>2</td>\n",
       "      <td>3/19/1980</td>\n",
       "      <td>0.3307</td>\n",
       "      <td>0.3359</td>\n",
       "      <td>0.3307</td>\n",
       "      <td>0.3307</td>\n",
       "      <td>18508800</td>\n",
       "    </tr>\n",
       "    <tr>\n",
       "      <td>3</td>\n",
       "      <td>3/20/1980</td>\n",
       "      <td>0.3307</td>\n",
       "      <td>0.3346</td>\n",
       "      <td>0.3294</td>\n",
       "      <td>0.3294</td>\n",
       "      <td>11174400</td>\n",
       "    </tr>\n",
       "    <tr>\n",
       "      <td>4</td>\n",
       "      <td>3/21/1980</td>\n",
       "      <td>0.3229</td>\n",
       "      <td>0.3229</td>\n",
       "      <td>0.3177</td>\n",
       "      <td>0.3177</td>\n",
       "      <td>12172800</td>\n",
       "    </tr>\n",
       "  </tbody>\n",
       "</table>\n",
       "</div>"
      ],
      "text/plain": [
       "        date    open    high     low   close    volume\n",
       "0  3/17/1980  0.3255  0.3307  0.3255  0.3255  10924800\n",
       "1  3/18/1980  0.3255  0.3281  0.3229  0.3229  17068800\n",
       "2  3/19/1980  0.3307  0.3359  0.3307  0.3307  18508800\n",
       "3  3/20/1980  0.3307  0.3346  0.3294  0.3294  11174400\n",
       "4  3/21/1980  0.3229  0.3229  0.3177  0.3177  12172800"
      ]
     },
     "execution_count": 43,
     "metadata": {},
     "output_type": "execute_result"
    }
   ],
   "source": [
    "print('\\n Shape of the data:\\n')\n",
    "print(df.shape)\n",
    "\n",
    "print('\\n Data\\'s Info:\\n')\n",
    "print(df.info())\n",
    "\n",
    "print('\\n First data rows:')\n",
    "df.head(5)"
   ]
  },
  {
   "cell_type": "markdown",
   "metadata": {},
   "source": [
    "The dataset has daily operations at the stock market close, for a total of 10090 observations and 6 attributes.\n",
    "\n",
    "You should consider that on **Saturdays**, **Sundays** and **Holidays** there are no stock market operations and therefore there are no data for these days.\n",
    "\n",
    "There are multiple variables in the dataset [Reference](https://www.investopedia.com/):\n",
    "\n",
    "- Columns '**Open**' and '**Close**' represent the starting and final price at which the stock is traded on a particular day.\n",
    "- Columns '**High**' and '**Low**' represent the maximum and minimum price of the share for the day.\n",
    "- Column '**Volume**' reprente number of shares bought or sold in the day."
   ]
  },
  {
   "cell_type": "code",
   "execution_count": 44,
   "metadata": {},
   "outputs": [
    {
     "data": {
      "text/html": [
       "<div>\n",
       "<style scoped>\n",
       "    .dataframe tbody tr th:only-of-type {\n",
       "        vertical-align: middle;\n",
       "    }\n",
       "\n",
       "    .dataframe tbody tr th {\n",
       "        vertical-align: top;\n",
       "    }\n",
       "\n",
       "    .dataframe thead th {\n",
       "        text-align: right;\n",
       "    }\n",
       "</style>\n",
       "<table border=\"1\" class=\"dataframe\">\n",
       "  <thead>\n",
       "    <tr style=\"text-align: right;\">\n",
       "      <th></th>\n",
       "      <th>open</th>\n",
       "      <th>high</th>\n",
       "      <th>low</th>\n",
       "      <th>close</th>\n",
       "      <th>volume</th>\n",
       "    </tr>\n",
       "    <tr>\n",
       "      <th>date</th>\n",
       "      <th></th>\n",
       "      <th></th>\n",
       "      <th></th>\n",
       "      <th></th>\n",
       "      <th></th>\n",
       "    </tr>\n",
       "  </thead>\n",
       "  <tbody>\n",
       "    <tr>\n",
       "      <td>1980-03-17</td>\n",
       "      <td>0.3255</td>\n",
       "      <td>0.3307</td>\n",
       "      <td>0.3255</td>\n",
       "      <td>0.3255</td>\n",
       "      <td>10924800</td>\n",
       "    </tr>\n",
       "    <tr>\n",
       "      <td>1980-03-18</td>\n",
       "      <td>0.3255</td>\n",
       "      <td>0.3281</td>\n",
       "      <td>0.3229</td>\n",
       "      <td>0.3229</td>\n",
       "      <td>17068800</td>\n",
       "    </tr>\n",
       "    <tr>\n",
       "      <td>1980-03-19</td>\n",
       "      <td>0.3307</td>\n",
       "      <td>0.3359</td>\n",
       "      <td>0.3307</td>\n",
       "      <td>0.3307</td>\n",
       "      <td>18508800</td>\n",
       "    </tr>\n",
       "    <tr>\n",
       "      <td>1980-03-20</td>\n",
       "      <td>0.3307</td>\n",
       "      <td>0.3346</td>\n",
       "      <td>0.3294</td>\n",
       "      <td>0.3294</td>\n",
       "      <td>11174400</td>\n",
       "    </tr>\n",
       "    <tr>\n",
       "      <td>1980-03-21</td>\n",
       "      <td>0.3229</td>\n",
       "      <td>0.3229</td>\n",
       "      <td>0.3177</td>\n",
       "      <td>0.3177</td>\n",
       "      <td>12172800</td>\n",
       "    </tr>\n",
       "  </tbody>\n",
       "</table>\n",
       "</div>"
      ],
      "text/plain": [
       "              open    high     low   close    volume\n",
       "date                                                \n",
       "1980-03-17  0.3255  0.3307  0.3255  0.3255  10924800\n",
       "1980-03-18  0.3255  0.3281  0.3229  0.3229  17068800\n",
       "1980-03-19  0.3307  0.3359  0.3307  0.3307  18508800\n",
       "1980-03-20  0.3307  0.3346  0.3294  0.3294  11174400\n",
       "1980-03-21  0.3229  0.3229  0.3177  0.3177  12172800"
      ]
     },
     "execution_count": 44,
     "metadata": {},
     "output_type": "execute_result"
    }
   ],
   "source": [
    "# setting the index as date\n",
    "df['date'] = pd.to_datetime(df.date, format='%m/%d/%Y')\n",
    "df.index = df['date']\n",
    "df.drop(['date'], axis=1, inplace=True)\n",
    "df.sort_index(ascending=True, axis=0, inplace=True)\n",
    "df.head(5)"
   ]
  },
  {
   "cell_type": "code",
   "execution_count": 47,
   "metadata": {},
   "outputs": [
    {
     "data": {
      "text/plain": [
       "Text(0, 0.5, 'USD')"
      ]
     },
     "execution_count": 47,
     "metadata": {},
     "output_type": "execute_result"
    },
    {
     "data": {
      "image/png": "[encoded data removed]",
      "text/plain": [
       "<Figure size 1080x504 with 1 Axes>"
      ]
     },
     "metadata": {
      "needs_background": "light"
     },
     "output_type": "display_data"
    }
   ],
   "source": [
    "# plot close over time\n",
    "rcParams['figure.figsize'] = 15, 7\n",
    "ax = df.plot(y='close', style='b-', grid=True, title='Close Stock Price - 1980-03-17 to 2020-03-20')\n",
    "ax.set_xlabel(\"Date\")\n",
    "ax.set_ylabel(\"USD\")"
   ]
  },
  {
   "cell_type": "code",
   "execution_count": 55,
   "metadata": {},
   "outputs": [
    {
     "data": {
      "text/html": [
       "<div>\n",
       "<style scoped>\n",
       "    .dataframe tbody tr th:only-of-type {\n",
       "        vertical-align: middle;\n",
       "    }\n",
       "\n",
       "    .dataframe tbody tr th {\n",
       "        vertical-align: top;\n",
       "    }\n",
       "\n",
       "    .dataframe thead th {\n",
       "        text-align: right;\n",
       "    }\n",
       "</style>\n",
       "<table border=\"1\" class=\"dataframe\">\n",
       "  <thead>\n",
       "    <tr style=\"text-align: right;\">\n",
       "      <th></th>\n",
       "      <th>open</th>\n",
       "      <th>high</th>\n",
       "      <th>low</th>\n",
       "      <th>close</th>\n",
       "    </tr>\n",
       "  </thead>\n",
       "  <tbody>\n",
       "    <tr>\n",
       "      <td>count</td>\n",
       "      <td>10090.000000</td>\n",
       "      <td>10090.000000</td>\n",
       "      <td>10090.000000</td>\n",
       "      <td>10090.000000</td>\n",
       "    </tr>\n",
       "    <tr>\n",
       "      <td>mean</td>\n",
       "      <td>17.744796</td>\n",
       "      <td>17.988726</td>\n",
       "      <td>17.501696</td>\n",
       "      <td>17.743389</td>\n",
       "    </tr>\n",
       "    <tr>\n",
       "      <td>std</td>\n",
       "      <td>16.084734</td>\n",
       "      <td>16.313632</td>\n",
       "      <td>15.864770</td>\n",
       "      <td>16.085440</td>\n",
       "    </tr>\n",
       "    <tr>\n",
       "      <td>min</td>\n",
       "      <td>0.218800</td>\n",
       "      <td>0.218800</td>\n",
       "      <td>0.216100</td>\n",
       "      <td>0.216100</td>\n",
       "    </tr>\n",
       "    <tr>\n",
       "      <td>25%</td>\n",
       "      <td>1.130200</td>\n",
       "      <td>1.149350</td>\n",
       "      <td>1.117200</td>\n",
       "      <td>1.132800</td>\n",
       "    </tr>\n",
       "    <tr>\n",
       "      <td>50%</td>\n",
       "      <td>19.260000</td>\n",
       "      <td>19.500000</td>\n",
       "      <td>19.029950</td>\n",
       "      <td>19.250000</td>\n",
       "    </tr>\n",
       "    <tr>\n",
       "      <td>75%</td>\n",
       "      <td>27.306750</td>\n",
       "      <td>27.617500</td>\n",
       "      <td>26.909750</td>\n",
       "      <td>27.270000</td>\n",
       "    </tr>\n",
       "    <tr>\n",
       "      <td>max</td>\n",
       "      <td>75.630000</td>\n",
       "      <td>75.810000</td>\n",
       "      <td>73.630000</td>\n",
       "      <td>74.880000</td>\n",
       "    </tr>\n",
       "  </tbody>\n",
       "</table>\n",
       "</div>"
      ],
      "text/plain": [
       "               open          high           low         close\n",
       "count  10090.000000  10090.000000  10090.000000  10090.000000\n",
       "mean      17.744796     17.988726     17.501696     17.743389\n",
       "std       16.084734     16.313632     15.864770     16.085440\n",
       "min        0.218800      0.218800      0.216100      0.216100\n",
       "25%        1.130200      1.149350      1.117200      1.132800\n",
       "50%       19.260000     19.500000     19.029950     19.250000\n",
       "75%       27.306750     27.617500     26.909750     27.270000\n",
       "max       75.630000     75.810000     73.630000     74.880000"
      ]
     },
     "execution_count": 55,
     "metadata": {},
     "output_type": "execute_result"
    }
   ],
   "source": [
    "df.describe()"
   ]
  },
  {
   "cell_type": "markdown",
   "metadata": {},
   "source": [
    "The descriptive data view shows a relatively similar 'mean' and 'standard deviation' for the values 'open', ' high', 'low' and 'close'.\n",
    "\n",
    "For the purposes of this preliminary investigation, the values for 'volume' have a bias that we will deal with right away, meanwhile we will remove this attribute from the data set.\n",
    "\n",
    "The data set includes observations from 1984 until the present. Values older than 3 years will not be considered in this preliminary investigation. Part of this decision is based on the historical values shown from the origin to the end of 1996 and the values between 1998 and 2004. Therefore, observations with more than 3 years will be removed.\n",
    "\n",
    "Such a detailed study will require time that is not contemplated within the scope of this investigation."
   ]
  },
  {
   "cell_type": "code",
   "execution_count": 49,
   "metadata": {},
   "outputs": [],
   "source": [
    "# remove volume attribute\n",
    "df.drop('volume', axis=1, inplace=True)"
   ]
  },
  {
   "cell_type": "code",
   "execution_count": 71,
   "metadata": {},
   "outputs": [],
   "source": [
    "# set start and end date range\n",
    "start_date = dt.datetime(2018, 1, 30)\n",
    "end_date = dt.datetime(2021, 1, 30)\n",
    "\n",
    "# get data range by date\n",
    "df_adj = df.loc[start_date:end_date, ]"
   ]
  },
  {
   "cell_type": "code",
   "execution_count": 72,
   "metadata": {},
   "outputs": [
    {
     "name": "stdout",
     "output_type": "stream",
     "text": [
      "\n",
      " Shape of the data:\n",
      "\n",
      "(1042, 4)\n",
      "\n",
      " Data's Info:\n",
      "\n",
      "<class 'pandas.core.frame.DataFrame'>\n",
      "DatetimeIndex: 1042 entries, 2016-02-01 to 2020-03-20\n",
      "Data columns (total 4 columns):\n",
      "open     1042 non-null float64\n",
      "high     1042 non-null float64\n",
      "low      1042 non-null float64\n",
      "close    1042 non-null float64\n",
      "dtypes: float64(4)\n",
      "memory usage: 40.7 KB\n",
      "None\n",
      "\n",
      " First data rows:\n"
     ]
    },
    {
     "data": {
      "text/html": [
       "<div>\n",
       "<style scoped>\n",
       "    .dataframe tbody tr th:only-of-type {\n",
       "        vertical-align: middle;\n",
       "    }\n",
       "\n",
       "    .dataframe tbody tr th {\n",
       "        vertical-align: top;\n",
       "    }\n",
       "\n",
       "    .dataframe thead th {\n",
       "        text-align: right;\n",
       "    }\n",
       "</style>\n",
       "<table border=\"1\" class=\"dataframe\">\n",
       "  <thead>\n",
       "    <tr style=\"text-align: right;\">\n",
       "      <th></th>\n",
       "      <th>open</th>\n",
       "      <th>high</th>\n",
       "      <th>low</th>\n",
       "      <th>close</th>\n",
       "    </tr>\n",
       "    <tr>\n",
       "      <th>date</th>\n",
       "      <th></th>\n",
       "      <th></th>\n",
       "      <th></th>\n",
       "      <th></th>\n",
       "    </tr>\n",
       "  </thead>\n",
       "  <tbody>\n",
       "    <tr>\n",
       "      <td>2016-02-01</td>\n",
       "      <td>30.72</td>\n",
       "      <td>31.12</td>\n",
       "      <td>30.64</td>\n",
       "      <td>30.82</td>\n",
       "    </tr>\n",
       "    <tr>\n",
       "      <td>2016-02-02</td>\n",
       "      <td>30.45</td>\n",
       "      <td>30.49</td>\n",
       "      <td>29.63</td>\n",
       "      <td>29.80</td>\n",
       "    </tr>\n",
       "    <tr>\n",
       "      <td>2016-02-03</td>\n",
       "      <td>29.72</td>\n",
       "      <td>29.72</td>\n",
       "      <td>28.52</td>\n",
       "      <td>29.34</td>\n",
       "    </tr>\n",
       "    <tr>\n",
       "      <td>2016-02-04</td>\n",
       "      <td>29.14</td>\n",
       "      <td>29.88</td>\n",
       "      <td>29.11</td>\n",
       "      <td>29.77</td>\n",
       "    </tr>\n",
       "    <tr>\n",
       "      <td>2016-02-05</td>\n",
       "      <td>29.58</td>\n",
       "      <td>29.76</td>\n",
       "      <td>28.91</td>\n",
       "      <td>29.04</td>\n",
       "    </tr>\n",
       "  </tbody>\n",
       "</table>\n",
       "</div>"
      ],
      "text/plain": [
       "             open   high    low  close\n",
       "date                                  \n",
       "2016-02-01  30.72  31.12  30.64  30.82\n",
       "2016-02-02  30.45  30.49  29.63  29.80\n",
       "2016-02-03  29.72  29.72  28.52  29.34\n",
       "2016-02-04  29.14  29.88  29.11  29.77\n",
       "2016-02-05  29.58  29.76  28.91  29.04"
      ]
     },
     "execution_count": 72,
     "metadata": {},
     "output_type": "execute_result"
    }
   ],
   "source": [
    "print('\\n Shape of the data:\\n')\n",
    "print(df_adj.shape)\n",
    "\n",
    "print('\\n Data\\'s Info:\\n')\n",
    "print(df_adj.info())\n",
    "\n",
    "print('\\n First data rows:')\n",
    "df_adj.head(5)"
   ]
  },
  {
   "cell_type": "code",
   "execution_count": 73,
   "metadata": {},
   "outputs": [
    {
     "data": {
      "text/html": [
       "<div>\n",
       "<style scoped>\n",
       "    .dataframe tbody tr th:only-of-type {\n",
       "        vertical-align: middle;\n",
       "    }\n",
       "\n",
       "    .dataframe tbody tr th {\n",
       "        vertical-align: top;\n",
       "    }\n",
       "\n",
       "    .dataframe thead th {\n",
       "        text-align: right;\n",
       "    }\n",
       "</style>\n",
       "<table border=\"1\" class=\"dataframe\">\n",
       "  <thead>\n",
       "    <tr style=\"text-align: right;\">\n",
       "      <th></th>\n",
       "      <th>open</th>\n",
       "      <th>high</th>\n",
       "      <th>low</th>\n",
       "      <th>close</th>\n",
       "    </tr>\n",
       "  </thead>\n",
       "  <tbody>\n",
       "    <tr>\n",
       "      <td>count</td>\n",
       "      <td>1042.000000</td>\n",
       "      <td>1042.000000</td>\n",
       "      <td>1042.000000</td>\n",
       "      <td>1042.000000</td>\n",
       "    </tr>\n",
       "    <tr>\n",
       "      <td>mean</td>\n",
       "      <td>43.974053</td>\n",
       "      <td>44.429741</td>\n",
       "      <td>43.540014</td>\n",
       "      <td>44.000921</td>\n",
       "    </tr>\n",
       "    <tr>\n",
       "      <td>std</td>\n",
       "      <td>9.003401</td>\n",
       "      <td>9.149852</td>\n",
       "      <td>8.869125</td>\n",
       "      <td>9.005712</td>\n",
       "    </tr>\n",
       "    <tr>\n",
       "      <td>min</td>\n",
       "      <td>27.830000</td>\n",
       "      <td>28.410000</td>\n",
       "      <td>27.680000</td>\n",
       "      <td>28.220000</td>\n",
       "    </tr>\n",
       "    <tr>\n",
       "      <td>25%</td>\n",
       "      <td>35.670000</td>\n",
       "      <td>35.942500</td>\n",
       "      <td>35.400000</td>\n",
       "      <td>35.702500</td>\n",
       "    </tr>\n",
       "    <tr>\n",
       "      <td>50%</td>\n",
       "      <td>45.515000</td>\n",
       "      <td>46.050000</td>\n",
       "      <td>44.850000</td>\n",
       "      <td>45.520000</td>\n",
       "    </tr>\n",
       "    <tr>\n",
       "      <td>75%</td>\n",
       "      <td>50.740000</td>\n",
       "      <td>51.575000</td>\n",
       "      <td>50.180000</td>\n",
       "      <td>50.845000</td>\n",
       "    </tr>\n",
       "    <tr>\n",
       "      <td>max</td>\n",
       "      <td>67.630000</td>\n",
       "      <td>69.290000</td>\n",
       "      <td>67.310000</td>\n",
       "      <td>68.470000</td>\n",
       "    </tr>\n",
       "  </tbody>\n",
       "</table>\n",
       "</div>"
      ],
      "text/plain": [
       "              open         high          low        close\n",
       "count  1042.000000  1042.000000  1042.000000  1042.000000\n",
       "mean     43.974053    44.429741    43.540014    44.000921\n",
       "std       9.003401     9.149852     8.869125     9.005712\n",
       "min      27.830000    28.410000    27.680000    28.220000\n",
       "25%      35.670000    35.942500    35.400000    35.702500\n",
       "50%      45.515000    46.050000    44.850000    45.520000\n",
       "75%      50.740000    51.575000    50.180000    50.845000\n",
       "max      67.630000    69.290000    67.310000    68.470000"
      ]
     },
     "execution_count": 73,
     "metadata": {},
     "output_type": "execute_result"
    }
   ],
   "source": [
    "df_adj.describe()"
   ]
  },
  {
   "cell_type": "markdown",
   "metadata": {},
   "source": [
    "The adjustment of the proposed data returns values of 'mean' around 17+/-0.2 and 'standard deviation' of 16+/-0.4. Also the minimum and maximum value changed have been moved for the dependent variable 'Close Price' from: minimum (from 0.21 to 17.66) and maximum (from 74.88 to 68.47)."
   ]
  },
  {
   "cell_type": "code",
   "execution_count": 75,
   "metadata": {},
   "outputs": [
    {
     "data": {
      "text/plain": [
       "Text(0, 0.5, 'USD')"
      ]
     },
     "execution_count": 75,
     "metadata": {},
     "output_type": "execute_result"
    },
    {
     "data": {
      "image/png": "[encoded data removed]",
      "text/plain": [
       "<Figure size 1080x504 with 1 Axes>"
      ]
     },
     "metadata": {
      "needs_background": "light"
     },
     "output_type": "display_data"
    }
   ],
   "source": [
    "# plot close over time\n",
    "rcParams['figure.figsize'] = 15, 7\n",
    "ax = df_adj.plot(y='close', style='b-', grid=True, title='Close Stock Price - 2018-01-30 to 2020-03-20')\n",
    "ax.set_xlabel(\"Date\")\n",
    "ax.set_ylabel(\"USD\")"
   ]
  },
  {
   "cell_type": "code",
   "execution_count": null,
   "metadata": {},
   "outputs": [],
   "source": [
    "#### 2.1 Clarify the project goal/scope."
   ]
  },
  {
   "cell_type": "code",
   "execution_count": null,
   "metadata": {},
   "outputs": [],
   "source": []
  },
  {
   "cell_type": "code",
   "execution_count": null,
   "metadata": {},
   "outputs": [],
   "source": []
  },
  {
   "cell_type": "code",
   "execution_count": null,
   "metadata": {},
   "outputs": [],
   "source": []
  },
  {
   "cell_type": "code",
   "execution_count": null,
   "metadata": {},
   "outputs": [],
   "source": []
  }
 ],
 "metadata": {
  "kernelspec": {
   "display_name": "Python 3",
   "language": "python",
   "name": "python3"
  },
  "language_info": {
   "codemirror_mode": {
    "name": "ipython",
    "version": 3
   },
   "file_extension": ".py",
   "mimetype": "text/x-python",
   "name": "python",
   "nbconvert_exporter": "python",
   "pygments_lexer": "ipython3",
   "version": "3.7.4"
  }
 },
 "nbformat": 4,
 "nbformat_minor": 2
}

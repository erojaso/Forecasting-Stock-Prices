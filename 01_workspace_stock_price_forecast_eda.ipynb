{
 "cells": [
  {
   "cell_type": "markdown",
   "metadata": {},
   "source": [
    "# Forecasting Stock Prices\n",
    "**Data Analytics and Big Data Capstone Project 2018c-5 - Data Science with Python**\n",
    "\n",
    "### 2. Exploratory Data Analysis (EDA) - Workspace"
   ]
  },
  {
   "cell_type": "code",
   "execution_count": 2,
   "metadata": {},
   "outputs": [],
   "source": [
    "# Load libraries\n",
    "import pandas as pd\n",
    "import numpy as np\n",
    "import matplotlib.pyplot as plt\n",
    "import datetime as dt\n",
    "\n",
    "from matplotlib.pyplot import rcParams\n",
    "\n",
    "# plot within notebook\n",
    "%matplotlib inline"
   ]
  },
  {
   "cell_type": "code",
   "execution_count": 3,
   "metadata": {},
   "outputs": [],
   "source": [
    "## load parameters\n",
    "# scaler = MinMaxScaler(feature_range=(0, 1))\n",
    "\n",
    "# set figure size\n",
    "rcParams['figure.figsize'] = 10, 8"
   ]
  },
  {
   "cell_type": "code",
   "execution_count": 22,
   "metadata": {},
   "outputs": [],
   "source": [
    "# Load dataset\n",
    "dateparse = lambda dates: pd.datetime.strptime(dates, '%Y-%m-%d')\n",
    "\n",
    "# load data\n",
    "df = pd.read_csv('.\\\\data\\\\eod.data-intc.csv') #,  index_col='Date', parse_dates=['Date'], date_parser=dateparse)\n",
    "\n",
    "# Change all column headings to be lower case, and remove spacing\n",
    "df.columns = [str(x).lower().replace('_', '') for x in df.columns]"
   ]
  },
  {
   "cell_type": "code",
   "execution_count": 23,
   "metadata": {},
   "outputs": [
    {
     "name": "stdout",
     "output_type": "stream",
     "text": [
      "\n",
      " Shape of the data:\n",
      "\n",
      "(10090, 6)\n",
      "\n",
      " Data's Info:\n",
      "\n",
      "<class 'pandas.core.frame.DataFrame'>\n",
      "RangeIndex: 10090 entries, 0 to 10089\n",
      "Data columns (total 6 columns):\n",
      "date      10090 non-null object\n",
      "open      10090 non-null float64\n",
      "high      10090 non-null float64\n",
      "low       10090 non-null float64\n",
      "close     10090 non-null float64\n",
      "volume    10090 non-null int64\n",
      "dtypes: float64(4), int64(1), object(1)\n",
      "memory usage: 473.1+ KB\n",
      "None\n",
      "\n",
      " First data rows:\n"
     ]
    },
    {
     "data": {
      "text/html": [
       "<div>\n",
       "<style scoped>\n",
       "    .dataframe tbody tr th:only-of-type {\n",
       "        vertical-align: middle;\n",
       "    }\n",
       "\n",
       "    .dataframe tbody tr th {\n",
       "        vertical-align: top;\n",
       "    }\n",
       "\n",
       "    .dataframe thead th {\n",
       "        text-align: right;\n",
       "    }\n",
       "</style>\n",
       "<table border=\"1\" class=\"dataframe\">\n",
       "  <thead>\n",
       "    <tr style=\"text-align: right;\">\n",
       "      <th></th>\n",
       "      <th>date</th>\n",
       "      <th>open</th>\n",
       "      <th>high</th>\n",
       "      <th>low</th>\n",
       "      <th>close</th>\n",
       "      <th>volume</th>\n",
       "    </tr>\n",
       "  </thead>\n",
       "  <tbody>\n",
       "    <tr>\n",
       "      <td>0</td>\n",
       "      <td>3/17/1980</td>\n",
       "      <td>0.3255</td>\n",
       "      <td>0.3307</td>\n",
       "      <td>0.3255</td>\n",
       "      <td>0.3255</td>\n",
       "      <td>10924800</td>\n",
       "    </tr>\n",
       "    <tr>\n",
       "      <td>1</td>\n",
       "      <td>3/18/1980</td>\n",
       "      <td>0.3255</td>\n",
       "      <td>0.3281</td>\n",
       "      <td>0.3229</td>\n",
       "      <td>0.3229</td>\n",
       "      <td>17068800</td>\n",
       "    </tr>\n",
       "    <tr>\n",
       "      <td>2</td>\n",
       "      <td>3/19/1980</td>\n",
       "      <td>0.3307</td>\n",
       "      <td>0.3359</td>\n",
       "      <td>0.3307</td>\n",
       "      <td>0.3307</td>\n",
       "      <td>18508800</td>\n",
       "    </tr>\n",
       "    <tr>\n",
       "      <td>3</td>\n",
       "      <td>3/20/1980</td>\n",
       "      <td>0.3307</td>\n",
       "      <td>0.3346</td>\n",
       "      <td>0.3294</td>\n",
       "      <td>0.3294</td>\n",
       "      <td>11174400</td>\n",
       "    </tr>\n",
       "    <tr>\n",
       "      <td>4</td>\n",
       "      <td>3/21/1980</td>\n",
       "      <td>0.3229</td>\n",
       "      <td>0.3229</td>\n",
       "      <td>0.3177</td>\n",
       "      <td>0.3177</td>\n",
       "      <td>12172800</td>\n",
       "    </tr>\n",
       "  </tbody>\n",
       "</table>\n",
       "</div>"
      ],
      "text/plain": [
       "        date    open    high     low   close    volume\n",
       "0  3/17/1980  0.3255  0.3307  0.3255  0.3255  10924800\n",
       "1  3/18/1980  0.3255  0.3281  0.3229  0.3229  17068800\n",
       "2  3/19/1980  0.3307  0.3359  0.3307  0.3307  18508800\n",
       "3  3/20/1980  0.3307  0.3346  0.3294  0.3294  11174400\n",
       "4  3/21/1980  0.3229  0.3229  0.3177  0.3177  12172800"
      ]
     },
     "execution_count": 23,
     "metadata": {},
     "output_type": "execute_result"
    }
   ],
   "source": [
    "print('\\n Shape of the data:\\n')\n",
    "print(df.shape)\n",
    "\n",
    "print('\\n Data\\'s Info:\\n')\n",
    "print(df.info())\n",
    "\n",
    "print('\\n First data rows:')\n",
    "df.head(5)"
   ]
  },
  {
   "cell_type": "code",
   "execution_count": 24,
   "metadata": {},
   "outputs": [
    {
     "data": {
      "text/html": [
       "<div>\n",
       "<style scoped>\n",
       "    .dataframe tbody tr th:only-of-type {\n",
       "        vertical-align: middle;\n",
       "    }\n",
       "\n",
       "    .dataframe tbody tr th {\n",
       "        vertical-align: top;\n",
       "    }\n",
       "\n",
       "    .dataframe thead th {\n",
       "        text-align: right;\n",
       "    }\n",
       "</style>\n",
       "<table border=\"1\" class=\"dataframe\">\n",
       "  <thead>\n",
       "    <tr style=\"text-align: right;\">\n",
       "      <th></th>\n",
       "      <th>open</th>\n",
       "      <th>high</th>\n",
       "      <th>low</th>\n",
       "      <th>close</th>\n",
       "      <th>volume</th>\n",
       "    </tr>\n",
       "    <tr>\n",
       "      <th>date</th>\n",
       "      <th></th>\n",
       "      <th></th>\n",
       "      <th></th>\n",
       "      <th></th>\n",
       "      <th></th>\n",
       "    </tr>\n",
       "  </thead>\n",
       "  <tbody>\n",
       "    <tr>\n",
       "      <td>1980-03-17</td>\n",
       "      <td>0.3255</td>\n",
       "      <td>0.3307</td>\n",
       "      <td>0.3255</td>\n",
       "      <td>0.3255</td>\n",
       "      <td>10924800</td>\n",
       "    </tr>\n",
       "    <tr>\n",
       "      <td>1980-03-18</td>\n",
       "      <td>0.3255</td>\n",
       "      <td>0.3281</td>\n",
       "      <td>0.3229</td>\n",
       "      <td>0.3229</td>\n",
       "      <td>17068800</td>\n",
       "    </tr>\n",
       "    <tr>\n",
       "      <td>1980-03-19</td>\n",
       "      <td>0.3307</td>\n",
       "      <td>0.3359</td>\n",
       "      <td>0.3307</td>\n",
       "      <td>0.3307</td>\n",
       "      <td>18508800</td>\n",
       "    </tr>\n",
       "    <tr>\n",
       "      <td>1980-03-20</td>\n",
       "      <td>0.3307</td>\n",
       "      <td>0.3346</td>\n",
       "      <td>0.3294</td>\n",
       "      <td>0.3294</td>\n",
       "      <td>11174400</td>\n",
       "    </tr>\n",
       "    <tr>\n",
       "      <td>1980-03-21</td>\n",
       "      <td>0.3229</td>\n",
       "      <td>0.3229</td>\n",
       "      <td>0.3177</td>\n",
       "      <td>0.3177</td>\n",
       "      <td>12172800</td>\n",
       "    </tr>\n",
       "  </tbody>\n",
       "</table>\n",
       "</div>"
      ],
      "text/plain": [
       "              open    high     low   close    volume\n",
       "date                                                \n",
       "1980-03-17  0.3255  0.3307  0.3255  0.3255  10924800\n",
       "1980-03-18  0.3255  0.3281  0.3229  0.3229  17068800\n",
       "1980-03-19  0.3307  0.3359  0.3307  0.3307  18508800\n",
       "1980-03-20  0.3307  0.3346  0.3294  0.3294  11174400\n",
       "1980-03-21  0.3229  0.3229  0.3177  0.3177  12172800"
      ]
     },
     "execution_count": 24,
     "metadata": {},
     "output_type": "execute_result"
    }
   ],
   "source": [
    "# setting the index as date\n",
    "df['date'] = pd.to_datetime(df.date, format='%m/%d/%Y')\n",
    "df.index = df['date']\n",
    "df.drop(['date'], axis=1, inplace=True)\n",
    "df.sort_index(ascending=True, axis=0, inplace=True)\n",
    "df.head(5)"
   ]
  },
  {
   "cell_type": "code",
   "execution_count": 25,
   "metadata": {},
   "outputs": [
    {
     "data": {
      "text/plain": [
       "Text(0, 0.5, 'USD')"
      ]
     },
     "execution_count": 25,
     "metadata": {},
     "output_type": "execute_result"
    },
    {
     "data": {
      "image/png": "[encoded data removed]",
      "text/plain": [
       "<Figure size 1080x504 with 1 Axes>"
      ]
     },
     "metadata": {
      "needs_background": "light"
     },
     "output_type": "display_data"
    }
   ],
   "source": [
    "# plot close over time\n",
    "rcParams['figure.figsize'] = 15, 7\n",
    "ax = df.plot(y='close', style='b-', grid=True, title='Close Stock Price - 1980-03-17 to 2020-03-20')\n",
    "ax.set_xlabel(\"Date\")\n",
    "ax.set_ylabel(\"USD\")"
   ]
  },
  {
   "cell_type": "code",
   "execution_count": 26,
   "metadata": {},
   "outputs": [],
   "source": [
    "# remove volume attribute\n",
    "df.drop('volume', axis=1, inplace=True)"
   ]
  },
  {
   "cell_type": "code",
   "execution_count": 37,
   "metadata": {},
   "outputs": [],
   "source": [
    "# set start and end date range\n",
    "start_date = dt.datetime(2018, 1, 31)\n",
    "end_date = dt.datetime(2021, 1, 31)\n",
    "\n",
    "# get data range by date\n",
    "df_adj = df.loc[start_date:end_date]"
   ]
  },
  {
   "cell_type": "code",
   "execution_count": 38,
   "metadata": {},
   "outputs": [
    {
     "name": "stdout",
     "output_type": "stream",
     "text": [
      "\n",
      " Shape of the data:\n",
      "\n",
      "(538, 4)\n",
      "\n",
      " Data's Info:\n",
      "\n",
      "<class 'pandas.core.frame.DataFrame'>\n",
      "DatetimeIndex: 538 entries, 2018-01-31 to 2020-03-20\n",
      "Data columns (total 4 columns):\n",
      "open     538 non-null float64\n",
      "high     538 non-null float64\n",
      "low      538 non-null float64\n",
      "close    538 non-null float64\n",
      "dtypes: float64(4)\n",
      "memory usage: 21.0 KB\n",
      "None\n",
      "\n",
      " First data rows:\n"
     ]
    },
    {
     "data": {
      "text/html": [
       "<div>\n",
       "<style scoped>\n",
       "    .dataframe tbody tr th:only-of-type {\n",
       "        vertical-align: middle;\n",
       "    }\n",
       "\n",
       "    .dataframe tbody tr th {\n",
       "        vertical-align: top;\n",
       "    }\n",
       "\n",
       "    .dataframe thead th {\n",
       "        text-align: right;\n",
       "    }\n",
       "</style>\n",
       "<table border=\"1\" class=\"dataframe\">\n",
       "  <thead>\n",
       "    <tr style=\"text-align: right;\">\n",
       "      <th></th>\n",
       "      <th>open</th>\n",
       "      <th>high</th>\n",
       "      <th>low</th>\n",
       "      <th>close</th>\n",
       "    </tr>\n",
       "    <tr>\n",
       "      <th>date</th>\n",
       "      <th></th>\n",
       "      <th></th>\n",
       "      <th></th>\n",
       "      <th></th>\n",
       "    </tr>\n",
       "  </thead>\n",
       "  <tbody>\n",
       "    <tr>\n",
       "      <td>2018-01-31</td>\n",
       "      <td>49.230</td>\n",
       "      <td>49.25</td>\n",
       "      <td>47.5600</td>\n",
       "      <td>48.14</td>\n",
       "    </tr>\n",
       "    <tr>\n",
       "      <td>2018-02-01</td>\n",
       "      <td>47.695</td>\n",
       "      <td>48.47</td>\n",
       "      <td>47.4500</td>\n",
       "      <td>47.65</td>\n",
       "    </tr>\n",
       "    <tr>\n",
       "      <td>2018-02-02</td>\n",
       "      <td>47.320</td>\n",
       "      <td>47.79</td>\n",
       "      <td>46.1000</td>\n",
       "      <td>46.15</td>\n",
       "    </tr>\n",
       "    <tr>\n",
       "      <td>2018-02-05</td>\n",
       "      <td>46.350</td>\n",
       "      <td>47.26</td>\n",
       "      <td>44.5000</td>\n",
       "      <td>44.52</td>\n",
       "    </tr>\n",
       "    <tr>\n",
       "      <td>2018-02-06</td>\n",
       "      <td>44.020</td>\n",
       "      <td>44.93</td>\n",
       "      <td>43.0302</td>\n",
       "      <td>44.91</td>\n",
       "    </tr>\n",
       "  </tbody>\n",
       "</table>\n",
       "</div>"
      ],
      "text/plain": [
       "              open   high      low  close\n",
       "date                                     \n",
       "2018-01-31  49.230  49.25  47.5600  48.14\n",
       "2018-02-01  47.695  48.47  47.4500  47.65\n",
       "2018-02-02  47.320  47.79  46.1000  46.15\n",
       "2018-02-05  46.350  47.26  44.5000  44.52\n",
       "2018-02-06  44.020  44.93  43.0302  44.91"
      ]
     },
     "execution_count": 38,
     "metadata": {},
     "output_type": "execute_result"
    }
   ],
   "source": [
    "print('\\n Shape of the data:\\n')\n",
    "print(df_adj.shape)\n",
    "\n",
    "print('\\n Data\\'s Info:\\n')\n",
    "print(df_adj.info())\n",
    "\n",
    "print('\\n First data rows:')\n",
    "df_adj.head(5)"
   ]
  },
  {
   "cell_type": "code",
   "execution_count": 39,
   "metadata": {},
   "outputs": [
    {
     "data": {
      "text/html": [
       "<div>\n",
       "<style scoped>\n",
       "    .dataframe tbody tr th:only-of-type {\n",
       "        vertical-align: middle;\n",
       "    }\n",
       "\n",
       "    .dataframe tbody tr th {\n",
       "        vertical-align: top;\n",
       "    }\n",
       "\n",
       "    .dataframe thead th {\n",
       "        text-align: right;\n",
       "    }\n",
       "</style>\n",
       "<table border=\"1\" class=\"dataframe\">\n",
       "  <thead>\n",
       "    <tr style=\"text-align: right;\">\n",
       "      <th></th>\n",
       "      <th>open</th>\n",
       "      <th>high</th>\n",
       "      <th>low</th>\n",
       "      <th>close</th>\n",
       "    </tr>\n",
       "  </thead>\n",
       "  <tbody>\n",
       "    <tr>\n",
       "      <td>count</td>\n",
       "      <td>538.000000</td>\n",
       "      <td>538.000000</td>\n",
       "      <td>538.000000</td>\n",
       "      <td>538.000000</td>\n",
       "    </tr>\n",
       "    <tr>\n",
       "      <td>mean</td>\n",
       "      <td>51.373111</td>\n",
       "      <td>51.989972</td>\n",
       "      <td>50.795581</td>\n",
       "      <td>51.392565</td>\n",
       "    </tr>\n",
       "    <tr>\n",
       "      <td>std</td>\n",
       "      <td>5.179134</td>\n",
       "      <td>5.152480</td>\n",
       "      <td>5.196410</td>\n",
       "      <td>5.197871</td>\n",
       "    </tr>\n",
       "    <tr>\n",
       "      <td>min</td>\n",
       "      <td>43.350000</td>\n",
       "      <td>44.280000</td>\n",
       "      <td>42.040000</td>\n",
       "      <td>42.420000</td>\n",
       "    </tr>\n",
       "    <tr>\n",
       "      <td>25%</td>\n",
       "      <td>47.415000</td>\n",
       "      <td>47.996250</td>\n",
       "      <td>46.785000</td>\n",
       "      <td>47.382500</td>\n",
       "    </tr>\n",
       "    <tr>\n",
       "      <td>50%</td>\n",
       "      <td>50.510000</td>\n",
       "      <td>51.255000</td>\n",
       "      <td>50.000000</td>\n",
       "      <td>50.730000</td>\n",
       "    </tr>\n",
       "    <tr>\n",
       "      <td>75%</td>\n",
       "      <td>54.355000</td>\n",
       "      <td>54.737500</td>\n",
       "      <td>53.800000</td>\n",
       "      <td>54.355000</td>\n",
       "    </tr>\n",
       "    <tr>\n",
       "      <td>max</td>\n",
       "      <td>67.630000</td>\n",
       "      <td>69.290000</td>\n",
       "      <td>67.310000</td>\n",
       "      <td>68.470000</td>\n",
       "    </tr>\n",
       "  </tbody>\n",
       "</table>\n",
       "</div>"
      ],
      "text/plain": [
       "             open        high         low       close\n",
       "count  538.000000  538.000000  538.000000  538.000000\n",
       "mean    51.373111   51.989972   50.795581   51.392565\n",
       "std      5.179134    5.152480    5.196410    5.197871\n",
       "min     43.350000   44.280000   42.040000   42.420000\n",
       "25%     47.415000   47.996250   46.785000   47.382500\n",
       "50%     50.510000   51.255000   50.000000   50.730000\n",
       "75%     54.355000   54.737500   53.800000   54.355000\n",
       "max     67.630000   69.290000   67.310000   68.470000"
      ]
     },
     "execution_count": 39,
     "metadata": {},
     "output_type": "execute_result"
    }
   ],
   "source": [
    "df_adj.describe()"
   ]
  },
  {
   "cell_type": "code",
   "execution_count": 40,
   "metadata": {},
   "outputs": [
    {
     "data": {
      "text/plain": [
       "Text(0, 0.5, 'USD')"
      ]
     },
     "execution_count": 40,
     "metadata": {},
     "output_type": "execute_result"
    },
    {
     "data": {
      "image/png": "[encoded data removed]",
      "text/plain": [
       "<Figure size 1080x504 with 1 Axes>"
      ]
     },
     "metadata": {
      "needs_background": "light"
     },
     "output_type": "display_data"
    }
   ],
   "source": [
    "# plot close over time\n",
    "rcParams['figure.figsize'] = 15, 7\n",
    "ax = df_adj.plot(y='close', style='b-', grid=True, title='Close Stock Price - 2018-01-30 to 2020-03-20')\n",
    "ax.set_xlabel(\"Date\")\n",
    "ax.set_ylabel(\"USD\")"
   ]
  },
  {
   "cell_type": "code",
   "execution_count": null,
   "metadata": {},
   "outputs": [],
   "source": []
  }
 ],
 "metadata": {
  "kernelspec": {
   "display_name": "Python 3",
   "language": "python",
   "name": "python3"
  },
  "language_info": {
   "codemirror_mode": {
    "name": "ipython",
    "version": 3
   },
   "file_extension": ".py",
   "mimetype": "text/x-python",
   "name": "python",
   "nbconvert_exporter": "python",
   "pygments_lexer": "ipython3",
   "version": "3.7.4"
  }
 },
 "nbformat": 4,
 "nbformat_minor": 2
}
